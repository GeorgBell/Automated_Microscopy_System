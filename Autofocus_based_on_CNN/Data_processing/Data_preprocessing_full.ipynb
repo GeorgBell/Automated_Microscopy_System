{
 "cells": [
  {
   "cell_type": "markdown",
   "metadata": {},
   "source": [
    "# Image preprocessing for Neural Network Autofocusing"
   ]
  },
  {
   "cell_type": "markdown",
   "metadata": {},
   "source": [
    "Import libaries"
   ]
  },
  {
   "cell_type": "code",
   "execution_count": 1,
   "metadata": {},
   "outputs": [],
   "source": [
    "import cv2\n",
    "import numpy as np\n",
    "import os\n",
    "import matplotlib.pyplot as plt"
   ]
  },
  {
   "cell_type": "markdown",
   "metadata": {},
   "source": [
    "### Setting up Data Base folders\n",
    "Each folder will represent each class. Each class reflects the bias from focal position. First, images were captured from -20 to +20 steps, where each step was equal to 5 units (1 unit is 2 micrometers), thus step was equal to 10 um. Then, images were captured from -20 to +20 steps, where each step was equal to 1 unit = 2 um. The classes are named in units (to convert to um just multiply by 2)"
   ]
  },
  {
   "cell_type": "code",
   "execution_count": 2,
   "metadata": {},
   "outputs": [],
   "source": [
    "classes = []\n",
    "\n",
    "# folders with step = 5\n",
    "for i in range(-20,21):\n",
    "    classes.append(i*5)\n",
    "\n",
    "# folders with step = 1\n",
    "for i in range(-20,21):\n",
    "    if i not in classes:\n",
    "        classes.append(i)\n",
    "        \n",
    "classes.sort()"
   ]
  },
  {
   "cell_type": "code",
   "execution_count": 3,
   "metadata": {},
   "outputs": [],
   "source": [
    "for class_name in classes:\n",
    "    os.mkdir('Train_data_full/{}'.format(class_name))"
   ]
  },
  {
   "cell_type": "markdown",
   "metadata": {},
   "source": [
    "### Initial Data\n",
    "- 'Raspberry' folder with 80 folders containing 41 .jpg images sized 1920x1080 pix;\n",
    "- 'New' folder with 11 folders containing 41 .jpg images sized 3180x2464 pix;\n",
    "- 'New_step_1_unit' folder with 23 folders containing 41 .jpg images sized 3180x2464 pix."
   ]
  },
  {
   "cell_type": "markdown",
   "metadata": {},
   "source": [
    "### Preprocessing of Raspberry folder\n",
    "#### Tasks:\n",
    "- place into folder accorfing to class."
   ]
  },
  {
   "cell_type": "code",
   "execution_count": 12,
   "metadata": {},
   "outputs": [
    {
     "name": "stdout",
     "output_type": "stream",
     "text": [
      "Folder:  1\n",
      "Folder:  2\n",
      "Folder:  3\n",
      "Folder:  4\n",
      "Folder:  5\n",
      "Folder:  6\n",
      "Folder:  7\n",
      "Folder:  8\n",
      "Folder:  9\n",
      "Folder:  10\n",
      "Folder:  11\n",
      "Folder:  12\n",
      "Folder:  13\n",
      "Folder:  14\n",
      "Folder:  15\n",
      "Folder:  16\n",
      "Folder:  17\n",
      "Folder:  18\n",
      "Folder:  19\n",
      "Folder:  20\n",
      "Folder:  21\n",
      "Folder:  22\n",
      "Folder:  23\n",
      "Folder:  24\n",
      "Folder:  25\n",
      "Folder:  26\n",
      "Folder:  27\n",
      "Folder:  28\n",
      "Folder:  29\n",
      "Folder:  30\n",
      "Folder:  31\n",
      "Folder:  32\n",
      "Folder:  33\n",
      "Folder:  34\n",
      "Folder:  35\n",
      "Folder:  36\n",
      "Folder:  37\n",
      "Folder:  38\n",
      "Folder:  39\n",
      "Folder:  40\n",
      "Folder:  41\n",
      "Folder:  42\n",
      "Folder:  43\n",
      "Folder:  44\n",
      "Folder:  45\n",
      "Folder:  46\n",
      "Folder:  47\n",
      "Folder:  48\n",
      "Folder:  49\n",
      "Folder:  50\n",
      "Folder:  51\n",
      "Folder:  52\n",
      "Folder:  53\n",
      "Folder:  54\n",
      "Folder:  55\n",
      "Folder:  56\n",
      "Folder:  57\n",
      "Folder:  58\n",
      "Folder:  59\n",
      "Folder:  60\n",
      "Folder:  61\n",
      "Folder:  62\n",
      "Folder:  63\n",
      "Folder:  64\n",
      "Folder:  65\n",
      "Folder:  66\n",
      "Folder:  67\n",
      "Folder:  68\n",
      "Folder:  69\n",
      "Folder:  70\n",
      "Folder:  71\n",
      "Folder:  72\n",
      "Folder:  73\n",
      "Folder:  74\n",
      "Folder:  75\n",
      "Folder:  76\n",
      "Folder:  77\n",
      "Folder:  78\n",
      "Folder:  79\n",
      "Folder:  80\n",
      "Done!\n"
     ]
    }
   ],
   "source": [
    "# initial image size\n",
    "height = 1080\n",
    "length = 1920\n",
    "\n",
    "for folder in range(1, 81):\n",
    "    print('Folder: ', folder)\n",
    "    for im_num in range(-20,21):\n",
    "        # read image\n",
    "        img = cv2.imread('Init/Raspberry/{}/{}.jpg'.format(folder,im_num))\n",
    "        # save image as jpg to folder-class in format init_folder_var\n",
    "        cv2.imwrite('Train_data_full/{}/2_{}.jpg'.format(im_num*5,folder), \n",
    "                    img)\n",
    "print(\"Done!\")"
   ]
  },
  {
   "cell_type": "markdown",
   "metadata": {},
   "source": [
    "### Preprocessing of New folder\n",
    "#### Tasks:\n",
    "- split each image in 2 1550x1200 pix images;\n",
    "- place into folder accorfing to class."
   ]
  },
  {
   "cell_type": "code",
   "execution_count": 13,
   "metadata": {},
   "outputs": [
    {
     "name": "stdout",
     "output_type": "stream",
     "text": [
      "Folder:  1\n",
      "Folder:  2\n",
      "Folder:  3\n",
      "Folder:  4\n",
      "Folder:  5\n",
      "Folder:  6\n",
      "Folder:  7\n",
      "Folder:  8\n",
      "Folder:  9\n",
      "Folder:  10\n",
      "Folder:  11\n",
      "Done!\n"
     ]
    }
   ],
   "source": [
    "# initial image size\n",
    "height = 2464\n",
    "length = 3180\n",
    "\n",
    "# required image size\n",
    "size_h = 1200\n",
    "size_l = 1550\n",
    "\n",
    "for folder in range(1, 12):\n",
    "    print('Folder: ', folder)\n",
    "    for im_num in range(-20,21):\n",
    "        # read image\n",
    "        img = cv2.imread('Init/New/{}/{}.jpg'.format(folder,im_num))\n",
    "        # crop image\n",
    "        img_1 = img[0:size_h, 0:size_l,:]\n",
    "        img_2 = img[size_h:height, size_l:length,:]\n",
    "        # save image as jpg to folder-class in format init_folder_var\n",
    "        cv2.imwrite('Train_data_full/{}/3_{}_1.jpg'.format(im_num*5,folder), \n",
    "                    img_1)\n",
    "        cv2.imwrite('Train_data_full/{}/3_{}_2.jpg'.format(im_num*5,folder), \n",
    "                    img_2)\n",
    "print(\"Done!\")"
   ]
  },
  {
   "cell_type": "markdown",
   "metadata": {},
   "source": [
    "### Preprocessing of New_step_1_unit folder\n",
    "#### Tasks:\n",
    "- split each image in 2 1550x1200 pix images;\n",
    "- place into folder accorfing to class with step = 1."
   ]
  },
  {
   "cell_type": "code",
   "execution_count": 15,
   "metadata": {},
   "outputs": [
    {
     "name": "stdout",
     "output_type": "stream",
     "text": [
      "Folder:  1\n",
      "Folder:  2\n",
      "Folder:  3\n",
      "Folder:  4\n",
      "Folder:  5\n",
      "Folder:  6\n",
      "Folder:  7\n",
      "Folder:  8\n",
      "Folder:  9\n",
      "Folder:  10\n",
      "Folder:  11\n",
      "Folder:  12\n",
      "Folder:  13\n",
      "Folder:  14\n",
      "Folder:  15\n",
      "Folder:  16\n",
      "Folder:  17\n",
      "Folder:  18\n",
      "Folder:  19\n",
      "Folder:  20\n",
      "Folder:  21\n",
      "Folder:  22\n",
      "Folder:  23\n",
      "Done!\n"
     ]
    }
   ],
   "source": [
    "# initial image size\n",
    "height = 2464\n",
    "length = 3180\n",
    "\n",
    "# required image size\n",
    "size_h = 1200\n",
    "size_l = 1550\n",
    "\n",
    "for folder in range(1, 24):\n",
    "    print('Folder: ', folder)\n",
    "    for im_num in range(-20,21):\n",
    "        # read image\n",
    "        img = cv2.imread('Init/New_step/{}/{}.jpg'.format(folder,im_num))\n",
    "        # crop image\n",
    "        img_1 = img[0:size_h, 0:size_l,:]\n",
    "        img_2 = img[size_h:height, size_l:length,:]\n",
    "        # save image as jpg to folder-class in format init_folder_var\n",
    "        cv2.imwrite('Train_data_full/{}/4_{}_1.jpg'.format(im_num,folder), \n",
    "                    img_1)\n",
    "        cv2.imwrite('Train_data_full/{}/4_{}_2.jpg'.format(im_num,folder), \n",
    "                    img_2)\n",
    "        \n",
    "print(\"Done!\")"
   ]
  },
  {
   "cell_type": "markdown",
   "metadata": {},
   "source": [
    "### Transform data into numerical formar and extract labels\n",
    "(This section was created wuth help of PyImageSearch website)"
   ]
  },
  {
   "cell_type": "markdown",
   "metadata": {},
   "source": [
    "Import libraries"
   ]
  },
  {
   "cell_type": "code",
   "execution_count": null,
   "metadata": {},
   "outputs": [],
   "source": [
    "# Import standard libraries\n",
    "from keras.preprocessing.image import img_to_array\n",
    "import numpy as np\n",
    "import random\n",
    "import cv2\n",
    "import os\n",
    "\n",
    "# Import special library\n",
    "from imutils import paths"
   ]
  },
  {
   "cell_type": "markdown",
   "metadata": {},
   "source": [
    "Prepare variables"
   ]
  },
  {
   "cell_type": "code",
   "execution_count": null,
   "metadata": {},
   "outputs": [],
   "source": [
    "# Required image shape\n",
    "IMAGE_DIMS = (250, 250, 1)\n",
    "\n",
    "# Initialize the data and labels\n",
    "data = []\n",
    "labels = []"
   ]
  },
  {
   "cell_type": "markdown",
   "metadata": {},
   "source": [
    "Grab the image paths and randomly shuffle them"
   ]
  },
  {
   "cell_type": "code",
   "execution_count": null,
   "metadata": {},
   "outputs": [],
   "source": [
    "imagePaths = sorted(list(paths.list_images(args[\"dataset\"])))\n",
    "random.seed(42)\n",
    "random.shuffle(imagePaths)"
   ]
  },
  {
   "cell_type": "markdown",
   "metadata": {},
   "source": [
    "Loop over the input images and perform preprocessing"
   ]
  },
  {
   "cell_type": "code",
   "execution_count": null,
   "metadata": {},
   "outputs": [],
   "source": [
    "for imagePath in imagePaths:\n",
    "    # load the image, pre-process it, and store it in the data list\n",
    "    image = cv2.imread(imagePath)\n",
    "    image = cv2.resize(image, (IMAGE_DIMS[1], IMAGE_DIMS[0]))\n",
    "    image = cv2.cvtColor(image, cv2.COLOR_BGR2GRAY)\n",
    "    image = img_to_array(image)\n",
    "    data.append(image)\n",
    " \n",
    "    # extract the class label from the image path and update the\n",
    "    # labels list\n",
    "    label = int(imagePath.split(os.path.sep)[-2])\n",
    "    labels.append(label)"
   ]
  },
  {
   "cell_type": "markdown",
   "metadata": {},
   "source": [
    "Scale the raw pixel intensities to the range [0, 1]"
   ]
  },
  {
   "cell_type": "code",
   "execution_count": null,
   "metadata": {},
   "outputs": [],
   "source": [
    "data = np.array(data, dtype=\"float\") / 255.0\n",
    "labels = np.array(labels)"
   ]
  },
  {
   "cell_type": "markdown",
   "metadata": {},
   "source": [
    "Save data and labels"
   ]
  },
  {
   "cell_type": "code",
   "execution_count": null,
   "metadata": {},
   "outputs": [],
   "source": [
    "np.save('Data_full', data)\n",
    "np.save('Labels_full', labels)"
   ]
  }
 ],
 "metadata": {
  "kernelspec": {
   "display_name": "Python 3",
   "language": "python",
   "name": "python3"
  },
  "language_info": {
   "codemirror_mode": {
    "name": "ipython",
    "version": 3
   },
   "file_extension": ".py",
   "mimetype": "text/x-python",
   "name": "python",
   "nbconvert_exporter": "python",
   "pygments_lexer": "ipython3",
   "version": "3.6.5"
  }
 },
 "nbformat": 4,
 "nbformat_minor": 2
}
